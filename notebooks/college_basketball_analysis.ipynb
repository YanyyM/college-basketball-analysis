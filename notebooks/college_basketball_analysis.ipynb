{
 "cells": [
  {
   "cell_type": "markdown",
   "id": "69924a66",
   "metadata": {},
   "source": [
    "# College Basketball Analysis"
   ]
  },
  {
   "cell_type": "markdown",
   "id": "60979de0",
   "metadata": {},
   "source": [
    "This project explores NCAA college basketball team statistics from a recent season using **pandas**, **numpy**, and **seaborn**. It answers questions about team performance, efficiency, and rankings to showcase fundamental data analysis skills.\n"
   ]
  },
  {
   "cell_type": "code",
   "execution_count": 23,
   "id": "0feab1f9",
   "metadata": {},
   "outputs": [],
   "source": [
    "# Import libraries \n",
    "\n",
    "import pandas as pd\n",
    "import numpy as np\n",
    "import seaborn as sns\n",
    "import matplotlib.pyplot as plt"
   ]
  },
  {
   "cell_type": "code",
   "execution_count": 5,
   "id": "be6b8c2b",
   "metadata": {},
   "outputs": [
    {
     "data": {
      "application/vnd.microsoft.datawrangler.viewer.v0+json": {
       "columns": [
        {
         "name": "index",
         "rawType": "int64",
         "type": "integer"
        },
        {
         "name": "TEAM",
         "rawType": "object",
         "type": "string"
        },
        {
         "name": "CONF",
         "rawType": "object",
         "type": "string"
        },
        {
         "name": "G",
         "rawType": "int64",
         "type": "integer"
        },
        {
         "name": "W",
         "rawType": "int64",
         "type": "integer"
        },
        {
         "name": "ADJOE",
         "rawType": "float64",
         "type": "float"
        },
        {
         "name": "ADJDE",
         "rawType": "float64",
         "type": "float"
        },
        {
         "name": "BARTHAG",
         "rawType": "float64",
         "type": "float"
        },
        {
         "name": "EFG%",
         "rawType": "float64",
         "type": "float"
        },
        {
         "name": "EFGD%",
         "rawType": "float64",
         "type": "float"
        },
        {
         "name": "TOR",
         "rawType": "float64",
         "type": "float"
        },
        {
         "name": "TORD",
         "rawType": "float64",
         "type": "float"
        },
        {
         "name": "ORB",
         "rawType": "float64",
         "type": "float"
        },
        {
         "name": "DRB",
         "rawType": "float64",
         "type": "float"
        },
        {
         "name": "FTR",
         "rawType": "float64",
         "type": "float"
        },
        {
         "name": "FTRD",
         "rawType": "float64",
         "type": "float"
        },
        {
         "name": "2P_O",
         "rawType": "float64",
         "type": "float"
        },
        {
         "name": "2P_D",
         "rawType": "float64",
         "type": "float"
        },
        {
         "name": "3P_O",
         "rawType": "float64",
         "type": "float"
        },
        {
         "name": "3P_D",
         "rawType": "float64",
         "type": "float"
        },
        {
         "name": "ADJ_T",
         "rawType": "float64",
         "type": "float"
        },
        {
         "name": "WAB",
         "rawType": "float64",
         "type": "float"
        },
        {
         "name": "POSTSEASON",
         "rawType": "object",
         "type": "string"
        },
        {
         "name": "SEED",
         "rawType": "float64",
         "type": "float"
        }
       ],
       "conversionMethod": "pd.DataFrame",
       "ref": "e5434a10-6eb9-4ff6-bc11-30cdaa41e135",
       "rows": [
        [
         "0",
         "Houston",
         "B12",
         "34",
         "30",
         "119.2",
         "85.5",
         "0.9785",
         "49.7",
         "44.0",
         "13.7",
         "24.7",
         "36.9",
         "30.2",
         "29.9",
         "39.0",
         "48.4",
         "43.4",
         "34.7",
         "30.0",
         "63.3",
         "10.6",
         "S16",
         "1.0"
        ],
        [
         "1",
         "Connecticut",
         "BE",
         "34",
         "31",
         "127.1",
         "93.6",
         "0.9712",
         "57.1",
         "45.1",
         "14.9",
         "16.2",
         "36.5",
         "26.8",
         "33.3",
         "32.5",
         "58.5",
         "43.7",
         "36.7",
         "31.9",
         "64.6",
         "11.3",
         "Champions",
         "1.0"
        ],
        [
         "2",
         "Purdue",
         "B10",
         "33",
         "29",
         "126.2",
         "94.7",
         "0.9644",
         "56.0",
         "47.7",
         "16.5",
         "14.0",
         "37.4",
         "24.7",
         "42.8",
         "23.0",
         "53.2",
         "48.1",
         "40.8",
         "31.4",
         "67.6",
         "11.0",
         "2ND",
         "1.0"
        ],
        [
         "3",
         "North Carolina",
         "ACC",
         "34",
         "27",
         "116.8",
         "93.2",
         "0.9305",
         "51.3",
         "46.4",
         "14.4",
         "14.9",
         "32.8",
         "23.5",
         "36.8",
         "28.3",
         "50.3",
         "46.0",
         "35.4",
         "31.4",
         "70.4",
         "6.6",
         "S16",
         "1.0"
        ],
        [
         "4",
         "Iowa St.",
         "B12",
         "34",
         "27",
         "113.6",
         "86.5",
         "0.9583",
         "51.9",
         "47.1",
         "15.7",
         "25.7",
         "31.6",
         "29.4",
         "36.1",
         "35.2",
         "51.7",
         "46.9",
         "34.9",
         "31.5",
         "67.6",
         "6.9",
         "S16",
         "2.0"
        ]
       ],
       "shape": {
        "columns": 23,
        "rows": 5
       }
      },
      "text/html": [
       "<div>\n",
       "<style scoped>\n",
       "    .dataframe tbody tr th:only-of-type {\n",
       "        vertical-align: middle;\n",
       "    }\n",
       "\n",
       "    .dataframe tbody tr th {\n",
       "        vertical-align: top;\n",
       "    }\n",
       "\n",
       "    .dataframe thead th {\n",
       "        text-align: right;\n",
       "    }\n",
       "</style>\n",
       "<table border=\"1\" class=\"dataframe\">\n",
       "  <thead>\n",
       "    <tr style=\"text-align: right;\">\n",
       "      <th></th>\n",
       "      <th>TEAM</th>\n",
       "      <th>CONF</th>\n",
       "      <th>G</th>\n",
       "      <th>W</th>\n",
       "      <th>ADJOE</th>\n",
       "      <th>ADJDE</th>\n",
       "      <th>BARTHAG</th>\n",
       "      <th>EFG%</th>\n",
       "      <th>EFGD%</th>\n",
       "      <th>TOR</th>\n",
       "      <th>...</th>\n",
       "      <th>FTR</th>\n",
       "      <th>FTRD</th>\n",
       "      <th>2P_O</th>\n",
       "      <th>2P_D</th>\n",
       "      <th>3P_O</th>\n",
       "      <th>3P_D</th>\n",
       "      <th>ADJ_T</th>\n",
       "      <th>WAB</th>\n",
       "      <th>POSTSEASON</th>\n",
       "      <th>SEED</th>\n",
       "    </tr>\n",
       "  </thead>\n",
       "  <tbody>\n",
       "    <tr>\n",
       "      <th>0</th>\n",
       "      <td>Houston</td>\n",
       "      <td>B12</td>\n",
       "      <td>34</td>\n",
       "      <td>30</td>\n",
       "      <td>119.2</td>\n",
       "      <td>85.5</td>\n",
       "      <td>0.9785</td>\n",
       "      <td>49.7</td>\n",
       "      <td>44.0</td>\n",
       "      <td>13.7</td>\n",
       "      <td>...</td>\n",
       "      <td>29.9</td>\n",
       "      <td>39.0</td>\n",
       "      <td>48.4</td>\n",
       "      <td>43.4</td>\n",
       "      <td>34.7</td>\n",
       "      <td>30.0</td>\n",
       "      <td>63.3</td>\n",
       "      <td>10.6</td>\n",
       "      <td>S16</td>\n",
       "      <td>1.0</td>\n",
       "    </tr>\n",
       "    <tr>\n",
       "      <th>1</th>\n",
       "      <td>Connecticut</td>\n",
       "      <td>BE</td>\n",
       "      <td>34</td>\n",
       "      <td>31</td>\n",
       "      <td>127.1</td>\n",
       "      <td>93.6</td>\n",
       "      <td>0.9712</td>\n",
       "      <td>57.1</td>\n",
       "      <td>45.1</td>\n",
       "      <td>14.9</td>\n",
       "      <td>...</td>\n",
       "      <td>33.3</td>\n",
       "      <td>32.5</td>\n",
       "      <td>58.5</td>\n",
       "      <td>43.7</td>\n",
       "      <td>36.7</td>\n",
       "      <td>31.9</td>\n",
       "      <td>64.6</td>\n",
       "      <td>11.3</td>\n",
       "      <td>Champions</td>\n",
       "      <td>1.0</td>\n",
       "    </tr>\n",
       "    <tr>\n",
       "      <th>2</th>\n",
       "      <td>Purdue</td>\n",
       "      <td>B10</td>\n",
       "      <td>33</td>\n",
       "      <td>29</td>\n",
       "      <td>126.2</td>\n",
       "      <td>94.7</td>\n",
       "      <td>0.9644</td>\n",
       "      <td>56.0</td>\n",
       "      <td>47.7</td>\n",
       "      <td>16.5</td>\n",
       "      <td>...</td>\n",
       "      <td>42.8</td>\n",
       "      <td>23.0</td>\n",
       "      <td>53.2</td>\n",
       "      <td>48.1</td>\n",
       "      <td>40.8</td>\n",
       "      <td>31.4</td>\n",
       "      <td>67.6</td>\n",
       "      <td>11.0</td>\n",
       "      <td>2ND</td>\n",
       "      <td>1.0</td>\n",
       "    </tr>\n",
       "    <tr>\n",
       "      <th>3</th>\n",
       "      <td>North Carolina</td>\n",
       "      <td>ACC</td>\n",
       "      <td>34</td>\n",
       "      <td>27</td>\n",
       "      <td>116.8</td>\n",
       "      <td>93.2</td>\n",
       "      <td>0.9305</td>\n",
       "      <td>51.3</td>\n",
       "      <td>46.4</td>\n",
       "      <td>14.4</td>\n",
       "      <td>...</td>\n",
       "      <td>36.8</td>\n",
       "      <td>28.3</td>\n",
       "      <td>50.3</td>\n",
       "      <td>46.0</td>\n",
       "      <td>35.4</td>\n",
       "      <td>31.4</td>\n",
       "      <td>70.4</td>\n",
       "      <td>6.6</td>\n",
       "      <td>S16</td>\n",
       "      <td>1.0</td>\n",
       "    </tr>\n",
       "    <tr>\n",
       "      <th>4</th>\n",
       "      <td>Iowa St.</td>\n",
       "      <td>B12</td>\n",
       "      <td>34</td>\n",
       "      <td>27</td>\n",
       "      <td>113.6</td>\n",
       "      <td>86.5</td>\n",
       "      <td>0.9583</td>\n",
       "      <td>51.9</td>\n",
       "      <td>47.1</td>\n",
       "      <td>15.7</td>\n",
       "      <td>...</td>\n",
       "      <td>36.1</td>\n",
       "      <td>35.2</td>\n",
       "      <td>51.7</td>\n",
       "      <td>46.9</td>\n",
       "      <td>34.9</td>\n",
       "      <td>31.5</td>\n",
       "      <td>67.6</td>\n",
       "      <td>6.9</td>\n",
       "      <td>S16</td>\n",
       "      <td>2.0</td>\n",
       "    </tr>\n",
       "  </tbody>\n",
       "</table>\n",
       "<p>5 rows × 23 columns</p>\n",
       "</div>"
      ],
      "text/plain": [
       "             TEAM CONF   G   W  ADJOE  ADJDE  BARTHAG  EFG%  EFGD%   TOR  ...  \\\n",
       "0         Houston  B12  34  30  119.2   85.5   0.9785  49.7   44.0  13.7  ...   \n",
       "1     Connecticut   BE  34  31  127.1   93.6   0.9712  57.1   45.1  14.9  ...   \n",
       "2          Purdue  B10  33  29  126.2   94.7   0.9644  56.0   47.7  16.5  ...   \n",
       "3  North Carolina  ACC  34  27  116.8   93.2   0.9305  51.3   46.4  14.4  ...   \n",
       "4        Iowa St.  B12  34  27  113.6   86.5   0.9583  51.9   47.1  15.7  ...   \n",
       "\n",
       "    FTR  FTRD  2P_O  2P_D  3P_O  3P_D  ADJ_T   WAB  POSTSEASON  SEED  \n",
       "0  29.9  39.0  48.4  43.4  34.7  30.0   63.3  10.6         S16   1.0  \n",
       "1  33.3  32.5  58.5  43.7  36.7  31.9   64.6  11.3   Champions   1.0  \n",
       "2  42.8  23.0  53.2  48.1  40.8  31.4   67.6  11.0         2ND   1.0  \n",
       "3  36.8  28.3  50.3  46.0  35.4  31.4   70.4   6.6         S16   1.0  \n",
       "4  36.1  35.2  51.7  46.9  34.9  31.5   67.6   6.9         S16   2.0  \n",
       "\n",
       "[5 rows x 23 columns]"
      ]
     },
     "execution_count": 5,
     "metadata": {},
     "output_type": "execute_result"
    }
   ],
   "source": [
    "# Load the dataset\n",
    "\n",
    "basketballData = pd.read_excel('../Data/CollegeBasketball.xlsx')\n",
    "basketballData.head()"
   ]
  },
  {
   "cell_type": "markdown",
   "id": "cab71f4d",
   "metadata": {},
   "source": [
    "# Data Exploration"
   ]
  },
  {
   "cell_type": "code",
   "execution_count": null,
   "id": "410dcd19",
   "metadata": {},
   "outputs": [
    {
     "data": {
      "text/plain": [
       "Index(['TEAM', 'CONF', 'G', 'W', 'ADJOE', 'ADJDE', 'BARTHAG', 'EFG%', 'EFGD%',\n",
       "       'TOR', 'TORD', 'ORB', 'DRB', 'FTR', 'FTRD', '2P_O', '2P_D', '3P_O',\n",
       "       '3P_D', 'ADJ_T', 'WAB', 'POSTSEASON', 'SEED'],\n",
       "      dtype='object')"
      ]
     },
     "execution_count": 9,
     "metadata": {},
     "output_type": "execute_result"
    }
   ],
   "source": [
    "# What are the column names in the dataset?\n",
    "basketballData.columns"
   ]
  },
  {
   "cell_type": "code",
   "execution_count": 11,
   "id": "7e784243",
   "metadata": {},
   "outputs": [
    {
     "data": {
      "text/plain": [
       "(725, 23)"
      ]
     },
     "execution_count": 11,
     "metadata": {},
     "output_type": "execute_result"
    }
   ],
   "source": [
    "# How many rows and columns are in the dataset?\n",
    "basketballData.shape"
   ]
  },
  {
   "cell_type": "code",
   "execution_count": 14,
   "id": "1dc8a4a9",
   "metadata": {},
   "outputs": [
    {
     "data": {
      "text/plain": [
       "TEAM           object\n",
       "CONF           object\n",
       "G               int64\n",
       "W               int64\n",
       "ADJOE         float64\n",
       "ADJDE         float64\n",
       "BARTHAG       float64\n",
       "EFG%          float64\n",
       "EFGD%         float64\n",
       "TOR           float64\n",
       "TORD          float64\n",
       "ORB           float64\n",
       "DRB           float64\n",
       "FTR           float64\n",
       "FTRD          float64\n",
       "2P_O          float64\n",
       "2P_D          float64\n",
       "3P_O          float64\n",
       "3P_D          float64\n",
       "ADJ_T         float64\n",
       "WAB           float64\n",
       "POSTSEASON     object\n",
       "SEED          float64\n",
       "dtype: object"
      ]
     },
     "execution_count": 14,
     "metadata": {},
     "output_type": "execute_result"
    }
   ],
   "source": [
    "# What are the data types of each column?\n",
    "basketballData.dtypes"
   ]
  },
  {
   "cell_type": "code",
   "execution_count": 16,
   "id": "4c663c81",
   "metadata": {},
   "outputs": [
    {
     "data": {
      "text/plain": [
       "TEAM            0\n",
       "CONF            0\n",
       "G               0\n",
       "W               0\n",
       "ADJOE           0\n",
       "ADJDE           0\n",
       "BARTHAG         0\n",
       "EFG%            0\n",
       "EFGD%           0\n",
       "TOR             0\n",
       "TORD            0\n",
       "ORB             0\n",
       "DRB             0\n",
       "FTR             0\n",
       "FTRD            0\n",
       "2P_O            0\n",
       "2P_D            0\n",
       "3P_O            0\n",
       "3P_D            0\n",
       "ADJ_T           0\n",
       "WAB             0\n",
       "POSTSEASON    589\n",
       "SEED          589\n",
       "dtype: int64"
      ]
     },
     "execution_count": 16,
     "metadata": {},
     "output_type": "execute_result"
    }
   ],
   "source": [
    "# Verify if there are any missing values in the dataset\n",
    "basketballData.isnull().sum()"
   ]
  },
  {
   "cell_type": "code",
   "execution_count": 17,
   "id": "4c6c189e",
   "metadata": {},
   "outputs": [
    {
     "data": {
      "application/vnd.microsoft.datawrangler.viewer.v0+json": {
       "columns": [
        {
         "name": "index",
         "rawType": "object",
         "type": "string"
        },
        {
         "name": "G",
         "rawType": "float64",
         "type": "float"
        },
        {
         "name": "W",
         "rawType": "float64",
         "type": "float"
        },
        {
         "name": "ADJOE",
         "rawType": "float64",
         "type": "float"
        },
        {
         "name": "ADJDE",
         "rawType": "float64",
         "type": "float"
        },
        {
         "name": "BARTHAG",
         "rawType": "float64",
         "type": "float"
        },
        {
         "name": "EFG%",
         "rawType": "float64",
         "type": "float"
        },
        {
         "name": "EFGD%",
         "rawType": "float64",
         "type": "float"
        },
        {
         "name": "TOR",
         "rawType": "float64",
         "type": "float"
        },
        {
         "name": "TORD",
         "rawType": "float64",
         "type": "float"
        },
        {
         "name": "ORB",
         "rawType": "float64",
         "type": "float"
        },
        {
         "name": "DRB",
         "rawType": "float64",
         "type": "float"
        },
        {
         "name": "FTR",
         "rawType": "float64",
         "type": "float"
        },
        {
         "name": "FTRD",
         "rawType": "float64",
         "type": "float"
        },
        {
         "name": "2P_O",
         "rawType": "float64",
         "type": "float"
        },
        {
         "name": "2P_D",
         "rawType": "float64",
         "type": "float"
        },
        {
         "name": "3P_O",
         "rawType": "float64",
         "type": "float"
        },
        {
         "name": "3P_D",
         "rawType": "float64",
         "type": "float"
        },
        {
         "name": "ADJ_T",
         "rawType": "float64",
         "type": "float"
        },
        {
         "name": "WAB",
         "rawType": "float64",
         "type": "float"
        },
        {
         "name": "SEED",
         "rawType": "float64",
         "type": "float"
        }
       ],
       "conversionMethod": "pd.DataFrame",
       "ref": "be1e9e1a-67a5-4ba7-99db-eb31767e12f8",
       "rows": [
        [
         "count",
         "725.0",
         "725.0",
         "725.0",
         "725.0",
         "725.0",
         "725.0",
         "725.0",
         "725.0",
         "725.0",
         "725.0",
         "725.0",
         "725.0",
         "725.0",
         "725.0",
         "725.0",
         "725.0",
         "725.0",
         "725.0",
         "725.0",
         "136.0"
        ],
        [
         "mean",
         "31.22758620689655",
         "17.008275862068967",
         "104.65227586206896",
         "104.65241379310345",
         "0.4935697931034482",
         "50.3695172413793",
         "50.51793103448276",
         "17.693517241379308",
         "17.6391724137931",
         "28.620275862068965",
         "28.795862068965516",
         "32.28731034482759",
         "32.455862068965516",
         "50.19020689655173",
         "50.29489655172414",
         "33.79765517241379",
         "33.930206896551724",
         "67.31089655172413",
         "-8.056096551724139",
         "8.779411764705882"
        ],
        [
         "std",
         "2.271444242010108",
         "6.009195341564191",
         "7.1483132446918525",
         "6.108327830864373",
         "0.25274887359911247",
         "2.8805204820110553",
         "2.5459714946540113",
         "2.081196907485497",
         "2.3590215640323096",
         "4.03115833140498",
         "2.912377753630835",
         "4.672693577539101",
         "5.44533451100572",
         "3.2899857404864696",
         "2.8863345193368892",
         "2.418861774522185",
         "2.170797034216816",
         "2.4704339870936742",
         "6.864529480646504",
         "4.675691553478263"
        ],
        [
         "min",
         "21.0",
         "1.0",
         "85.1",
         "85.5",
         "0.0283",
         "41.0",
         "41.3",
         "12.0",
         "11.2",
         "17.0",
         "20.2",
         "20.9",
         "16.2",
         "40.4",
         "40.8",
         "24.7",
         "26.5",
         "58.7",
         "-24.8",
         "1.0"
        ],
        [
         "25%",
         "30.0",
         "13.0",
         "99.7",
         "100.3",
         "0.2762",
         "48.6",
         "48.9",
         "16.3",
         "16.1",
         "25.9",
         "26.7",
         "29.1",
         "28.5",
         "48.1",
         "48.4",
         "32.2",
         "32.5",
         "65.7",
         "-13.0",
         "5.0"
        ],
        [
         "50%",
         "31.0",
         "17.0",
         "104.1",
         "104.9",
         "0.4655",
         "50.6",
         "50.5",
         "17.7",
         "17.4",
         "28.6",
         "28.8",
         "32.0",
         "31.8",
         "50.2",
         "50.4",
         "33.8",
         "34.0",
         "67.2",
         "-8.8",
         "9.0"
        ],
        [
         "75%",
         "33.0",
         "21.0",
         "109.5",
         "109.4",
         "0.7288",
         "52.1",
         "52.2",
         "18.9",
         "18.9",
         "31.5",
         "30.7",
         "35.2",
         "35.7",
         "52.2",
         "52.2",
         "35.6",
         "35.4",
         "68.9",
         "-3.1",
         "13.0"
        ],
        [
         "max",
         "39.0",
         "35.0",
         "127.1",
         "120.7",
         "0.9785",
         "59.9",
         "58.2",
         "24.0",
         "26.0",
         "41.9",
         "38.6",
         "50.0",
         "51.4",
         "62.0",
         "59.0",
         "41.2",
         "41.0",
         "75.1",
         "11.3",
         "16.0"
        ]
       ],
       "shape": {
        "columns": 20,
        "rows": 8
       }
      },
      "text/html": [
       "<div>\n",
       "<style scoped>\n",
       "    .dataframe tbody tr th:only-of-type {\n",
       "        vertical-align: middle;\n",
       "    }\n",
       "\n",
       "    .dataframe tbody tr th {\n",
       "        vertical-align: top;\n",
       "    }\n",
       "\n",
       "    .dataframe thead th {\n",
       "        text-align: right;\n",
       "    }\n",
       "</style>\n",
       "<table border=\"1\" class=\"dataframe\">\n",
       "  <thead>\n",
       "    <tr style=\"text-align: right;\">\n",
       "      <th></th>\n",
       "      <th>G</th>\n",
       "      <th>W</th>\n",
       "      <th>ADJOE</th>\n",
       "      <th>ADJDE</th>\n",
       "      <th>BARTHAG</th>\n",
       "      <th>EFG%</th>\n",
       "      <th>EFGD%</th>\n",
       "      <th>TOR</th>\n",
       "      <th>TORD</th>\n",
       "      <th>ORB</th>\n",
       "      <th>DRB</th>\n",
       "      <th>FTR</th>\n",
       "      <th>FTRD</th>\n",
       "      <th>2P_O</th>\n",
       "      <th>2P_D</th>\n",
       "      <th>3P_O</th>\n",
       "      <th>3P_D</th>\n",
       "      <th>ADJ_T</th>\n",
       "      <th>WAB</th>\n",
       "      <th>SEED</th>\n",
       "    </tr>\n",
       "  </thead>\n",
       "  <tbody>\n",
       "    <tr>\n",
       "      <th>count</th>\n",
       "      <td>725.000000</td>\n",
       "      <td>725.000000</td>\n",
       "      <td>725.000000</td>\n",
       "      <td>725.000000</td>\n",
       "      <td>725.000000</td>\n",
       "      <td>725.000000</td>\n",
       "      <td>725.000000</td>\n",
       "      <td>725.000000</td>\n",
       "      <td>725.000000</td>\n",
       "      <td>725.000000</td>\n",
       "      <td>725.000000</td>\n",
       "      <td>725.000000</td>\n",
       "      <td>725.000000</td>\n",
       "      <td>725.000000</td>\n",
       "      <td>725.000000</td>\n",
       "      <td>725.000000</td>\n",
       "      <td>725.000000</td>\n",
       "      <td>725.000000</td>\n",
       "      <td>725.000000</td>\n",
       "      <td>136.000000</td>\n",
       "    </tr>\n",
       "    <tr>\n",
       "      <th>mean</th>\n",
       "      <td>31.227586</td>\n",
       "      <td>17.008276</td>\n",
       "      <td>104.652276</td>\n",
       "      <td>104.652414</td>\n",
       "      <td>0.493570</td>\n",
       "      <td>50.369517</td>\n",
       "      <td>50.517931</td>\n",
       "      <td>17.693517</td>\n",
       "      <td>17.639172</td>\n",
       "      <td>28.620276</td>\n",
       "      <td>28.795862</td>\n",
       "      <td>32.287310</td>\n",
       "      <td>32.455862</td>\n",
       "      <td>50.190207</td>\n",
       "      <td>50.294897</td>\n",
       "      <td>33.797655</td>\n",
       "      <td>33.930207</td>\n",
       "      <td>67.310897</td>\n",
       "      <td>-8.056097</td>\n",
       "      <td>8.779412</td>\n",
       "    </tr>\n",
       "    <tr>\n",
       "      <th>std</th>\n",
       "      <td>2.271444</td>\n",
       "      <td>6.009195</td>\n",
       "      <td>7.148313</td>\n",
       "      <td>6.108328</td>\n",
       "      <td>0.252749</td>\n",
       "      <td>2.880520</td>\n",
       "      <td>2.545971</td>\n",
       "      <td>2.081197</td>\n",
       "      <td>2.359022</td>\n",
       "      <td>4.031158</td>\n",
       "      <td>2.912378</td>\n",
       "      <td>4.672694</td>\n",
       "      <td>5.445335</td>\n",
       "      <td>3.289986</td>\n",
       "      <td>2.886335</td>\n",
       "      <td>2.418862</td>\n",
       "      <td>2.170797</td>\n",
       "      <td>2.470434</td>\n",
       "      <td>6.864529</td>\n",
       "      <td>4.675692</td>\n",
       "    </tr>\n",
       "    <tr>\n",
       "      <th>min</th>\n",
       "      <td>21.000000</td>\n",
       "      <td>1.000000</td>\n",
       "      <td>85.100000</td>\n",
       "      <td>85.500000</td>\n",
       "      <td>0.028300</td>\n",
       "      <td>41.000000</td>\n",
       "      <td>41.300000</td>\n",
       "      <td>12.000000</td>\n",
       "      <td>11.200000</td>\n",
       "      <td>17.000000</td>\n",
       "      <td>20.200000</td>\n",
       "      <td>20.900000</td>\n",
       "      <td>16.200000</td>\n",
       "      <td>40.400000</td>\n",
       "      <td>40.800000</td>\n",
       "      <td>24.700000</td>\n",
       "      <td>26.500000</td>\n",
       "      <td>58.700000</td>\n",
       "      <td>-24.800000</td>\n",
       "      <td>1.000000</td>\n",
       "    </tr>\n",
       "    <tr>\n",
       "      <th>25%</th>\n",
       "      <td>30.000000</td>\n",
       "      <td>13.000000</td>\n",
       "      <td>99.700000</td>\n",
       "      <td>100.300000</td>\n",
       "      <td>0.276200</td>\n",
       "      <td>48.600000</td>\n",
       "      <td>48.900000</td>\n",
       "      <td>16.300000</td>\n",
       "      <td>16.100000</td>\n",
       "      <td>25.900000</td>\n",
       "      <td>26.700000</td>\n",
       "      <td>29.100000</td>\n",
       "      <td>28.500000</td>\n",
       "      <td>48.100000</td>\n",
       "      <td>48.400000</td>\n",
       "      <td>32.200000</td>\n",
       "      <td>32.500000</td>\n",
       "      <td>65.700000</td>\n",
       "      <td>-13.000000</td>\n",
       "      <td>5.000000</td>\n",
       "    </tr>\n",
       "    <tr>\n",
       "      <th>50%</th>\n",
       "      <td>31.000000</td>\n",
       "      <td>17.000000</td>\n",
       "      <td>104.100000</td>\n",
       "      <td>104.900000</td>\n",
       "      <td>0.465500</td>\n",
       "      <td>50.600000</td>\n",
       "      <td>50.500000</td>\n",
       "      <td>17.700000</td>\n",
       "      <td>17.400000</td>\n",
       "      <td>28.600000</td>\n",
       "      <td>28.800000</td>\n",
       "      <td>32.000000</td>\n",
       "      <td>31.800000</td>\n",
       "      <td>50.200000</td>\n",
       "      <td>50.400000</td>\n",
       "      <td>33.800000</td>\n",
       "      <td>34.000000</td>\n",
       "      <td>67.200000</td>\n",
       "      <td>-8.800000</td>\n",
       "      <td>9.000000</td>\n",
       "    </tr>\n",
       "    <tr>\n",
       "      <th>75%</th>\n",
       "      <td>33.000000</td>\n",
       "      <td>21.000000</td>\n",
       "      <td>109.500000</td>\n",
       "      <td>109.400000</td>\n",
       "      <td>0.728800</td>\n",
       "      <td>52.100000</td>\n",
       "      <td>52.200000</td>\n",
       "      <td>18.900000</td>\n",
       "      <td>18.900000</td>\n",
       "      <td>31.500000</td>\n",
       "      <td>30.700000</td>\n",
       "      <td>35.200000</td>\n",
       "      <td>35.700000</td>\n",
       "      <td>52.200000</td>\n",
       "      <td>52.200000</td>\n",
       "      <td>35.600000</td>\n",
       "      <td>35.400000</td>\n",
       "      <td>68.900000</td>\n",
       "      <td>-3.100000</td>\n",
       "      <td>13.000000</td>\n",
       "    </tr>\n",
       "    <tr>\n",
       "      <th>max</th>\n",
       "      <td>39.000000</td>\n",
       "      <td>35.000000</td>\n",
       "      <td>127.100000</td>\n",
       "      <td>120.700000</td>\n",
       "      <td>0.978500</td>\n",
       "      <td>59.900000</td>\n",
       "      <td>58.200000</td>\n",
       "      <td>24.000000</td>\n",
       "      <td>26.000000</td>\n",
       "      <td>41.900000</td>\n",
       "      <td>38.600000</td>\n",
       "      <td>50.000000</td>\n",
       "      <td>51.400000</td>\n",
       "      <td>62.000000</td>\n",
       "      <td>59.000000</td>\n",
       "      <td>41.200000</td>\n",
       "      <td>41.000000</td>\n",
       "      <td>75.100000</td>\n",
       "      <td>11.300000</td>\n",
       "      <td>16.000000</td>\n",
       "    </tr>\n",
       "  </tbody>\n",
       "</table>\n",
       "</div>"
      ],
      "text/plain": [
       "                G           W       ADJOE       ADJDE     BARTHAG        EFG%  \\\n",
       "count  725.000000  725.000000  725.000000  725.000000  725.000000  725.000000   \n",
       "mean    31.227586   17.008276  104.652276  104.652414    0.493570   50.369517   \n",
       "std      2.271444    6.009195    7.148313    6.108328    0.252749    2.880520   \n",
       "min     21.000000    1.000000   85.100000   85.500000    0.028300   41.000000   \n",
       "25%     30.000000   13.000000   99.700000  100.300000    0.276200   48.600000   \n",
       "50%     31.000000   17.000000  104.100000  104.900000    0.465500   50.600000   \n",
       "75%     33.000000   21.000000  109.500000  109.400000    0.728800   52.100000   \n",
       "max     39.000000   35.000000  127.100000  120.700000    0.978500   59.900000   \n",
       "\n",
       "            EFGD%         TOR        TORD         ORB         DRB         FTR  \\\n",
       "count  725.000000  725.000000  725.000000  725.000000  725.000000  725.000000   \n",
       "mean    50.517931   17.693517   17.639172   28.620276   28.795862   32.287310   \n",
       "std      2.545971    2.081197    2.359022    4.031158    2.912378    4.672694   \n",
       "min     41.300000   12.000000   11.200000   17.000000   20.200000   20.900000   \n",
       "25%     48.900000   16.300000   16.100000   25.900000   26.700000   29.100000   \n",
       "50%     50.500000   17.700000   17.400000   28.600000   28.800000   32.000000   \n",
       "75%     52.200000   18.900000   18.900000   31.500000   30.700000   35.200000   \n",
       "max     58.200000   24.000000   26.000000   41.900000   38.600000   50.000000   \n",
       "\n",
       "             FTRD        2P_O        2P_D        3P_O        3P_D       ADJ_T  \\\n",
       "count  725.000000  725.000000  725.000000  725.000000  725.000000  725.000000   \n",
       "mean    32.455862   50.190207   50.294897   33.797655   33.930207   67.310897   \n",
       "std      5.445335    3.289986    2.886335    2.418862    2.170797    2.470434   \n",
       "min     16.200000   40.400000   40.800000   24.700000   26.500000   58.700000   \n",
       "25%     28.500000   48.100000   48.400000   32.200000   32.500000   65.700000   \n",
       "50%     31.800000   50.200000   50.400000   33.800000   34.000000   67.200000   \n",
       "75%     35.700000   52.200000   52.200000   35.600000   35.400000   68.900000   \n",
       "max     51.400000   62.000000   59.000000   41.200000   41.000000   75.100000   \n",
       "\n",
       "              WAB        SEED  \n",
       "count  725.000000  136.000000  \n",
       "mean    -8.056097    8.779412  \n",
       "std      6.864529    4.675692  \n",
       "min    -24.800000    1.000000  \n",
       "25%    -13.000000    5.000000  \n",
       "50%     -8.800000    9.000000  \n",
       "75%     -3.100000   13.000000  \n",
       "max     11.300000   16.000000  "
      ]
     },
     "execution_count": 17,
     "metadata": {},
     "output_type": "execute_result"
    }
   ],
   "source": [
    "basketballData.describe()"
   ]
  },
  {
   "cell_type": "markdown",
   "id": "49d8dc8c",
   "metadata": {},
   "source": [
    "G – Games Played\n",
    "W – Wins\n",
    "ADJOE – Adjusted Offensive Efficiency\n",
    "ADJDE – Adjusted Defensive Efficiency\n",
    "BARTHAG – Overall team strength estimate"
   ]
  },
  {
   "cell_type": "markdown",
   "id": "f8cd457c",
   "metadata": {},
   "source": [
    "# Answering Questions"
   ]
  },
  {
   "cell_type": "code",
   "execution_count": 20,
   "id": "2c2e54c9",
   "metadata": {},
   "outputs": [
    {
     "data": {
      "application/vnd.microsoft.datawrangler.viewer.v0+json": {
       "columns": [
        {
         "name": "index",
         "rawType": "int64",
         "type": "integer"
        },
        {
         "name": "TEAM",
         "rawType": "object",
         "type": "string"
        },
        {
         "name": "CONF",
         "rawType": "object",
         "type": "string"
        },
        {
         "name": "W",
         "rawType": "int64",
         "type": "integer"
        },
        {
         "name": "BARTHAG",
         "rawType": "float64",
         "type": "float"
        },
        {
         "name": "SEED",
         "rawType": "float64",
         "type": "float"
        }
       ],
       "conversionMethod": "pd.DataFrame",
       "ref": "02c00427-3490-4907-9bf6-4e132a0c4429",
       "rows": [
        [
         "1",
         "Connecticut",
         "BE",
         "31",
         "0.9712",
         "1.0"
        ],
        [
         "374",
         "Connecticut",
         "BE",
         "31",
         "0.9643",
         "4.0"
        ]
       ],
       "shape": {
        "columns": 5,
        "rows": 2
       }
      },
      "text/html": [
       "<div>\n",
       "<style scoped>\n",
       "    .dataframe tbody tr th:only-of-type {\n",
       "        vertical-align: middle;\n",
       "    }\n",
       "\n",
       "    .dataframe tbody tr th {\n",
       "        vertical-align: top;\n",
       "    }\n",
       "\n",
       "    .dataframe thead th {\n",
       "        text-align: right;\n",
       "    }\n",
       "</style>\n",
       "<table border=\"1\" class=\"dataframe\">\n",
       "  <thead>\n",
       "    <tr style=\"text-align: right;\">\n",
       "      <th></th>\n",
       "      <th>TEAM</th>\n",
       "      <th>CONF</th>\n",
       "      <th>W</th>\n",
       "      <th>BARTHAG</th>\n",
       "      <th>SEED</th>\n",
       "    </tr>\n",
       "  </thead>\n",
       "  <tbody>\n",
       "    <tr>\n",
       "      <th>1</th>\n",
       "      <td>Connecticut</td>\n",
       "      <td>BE</td>\n",
       "      <td>31</td>\n",
       "      <td>0.9712</td>\n",
       "      <td>1.0</td>\n",
       "    </tr>\n",
       "    <tr>\n",
       "      <th>374</th>\n",
       "      <td>Connecticut</td>\n",
       "      <td>BE</td>\n",
       "      <td>31</td>\n",
       "      <td>0.9643</td>\n",
       "      <td>4.0</td>\n",
       "    </tr>\n",
       "  </tbody>\n",
       "</table>\n",
       "</div>"
      ],
      "text/plain": [
       "            TEAM CONF   W  BARTHAG  SEED\n",
       "1    Connecticut   BE  31   0.9712   1.0\n",
       "374  Connecticut   BE  31   0.9643   4.0"
      ]
     },
     "execution_count": 20,
     "metadata": {},
     "output_type": "execute_result"
    }
   ],
   "source": [
    "# Which team won the season?\n",
    "champion = basketballData[basketballData['POSTSEASON'] == 'Champions']\n",
    "champion[['TEAM', 'CONF', 'W', 'BARTHAG', 'SEED']]"
   ]
  },
  {
   "cell_type": "markdown",
   "id": "4189588d",
   "metadata": {},
   "source": [
    "Using this filter you can look at the champion of the season and a summary of who they were and how strong they are "
   ]
  },
  {
   "cell_type": "code",
   "execution_count": null,
   "id": "4d3228d5",
   "metadata": {},
   "outputs": [
    {
     "data": {
      "application/vnd.microsoft.datawrangler.viewer.v0+json": {
       "columns": [
        {
         "name": "index",
         "rawType": "int64",
         "type": "integer"
        },
        {
         "name": "TEAM",
         "rawType": "object",
         "type": "string"
        },
        {
         "name": "CONF",
         "rawType": "object",
         "type": "string"
        },
        {
         "name": "ADJOE",
         "rawType": "float64",
         "type": "float"
        },
        {
         "name": "W",
         "rawType": "int64",
         "type": "integer"
        },
        {
         "name": "POSTSEASON",
         "rawType": "object",
         "type": "string"
        }
       ],
       "conversionMethod": "pd.DataFrame",
       "ref": "0f4251d0-d60e-499a-b101-cf522262fb0c",
       "rows": [
        [
         "1",
         "Connecticut",
         "BE",
         "127.1",
         "31",
         "Champions"
        ],
        [
         "2",
         "Purdue",
         "B10",
         "126.2",
         "29",
         "2ND"
        ],
        [
         "9",
         "Illinois",
         "B10",
         "125.3",
         "26",
         "E8"
        ],
        [
         "14",
         "Alabama",
         "SEC",
         "125.2",
         "21",
         "F4"
        ],
        [
         "371",
         "Gonzaga",
         "WCC",
         "123.2",
         "31",
         "E8"
        ]
       ],
       "shape": {
        "columns": 5,
        "rows": 5
       }
      },
      "text/html": [
       "<div>\n",
       "<style scoped>\n",
       "    .dataframe tbody tr th:only-of-type {\n",
       "        vertical-align: middle;\n",
       "    }\n",
       "\n",
       "    .dataframe tbody tr th {\n",
       "        vertical-align: top;\n",
       "    }\n",
       "\n",
       "    .dataframe thead th {\n",
       "        text-align: right;\n",
       "    }\n",
       "</style>\n",
       "<table border=\"1\" class=\"dataframe\">\n",
       "  <thead>\n",
       "    <tr style=\"text-align: right;\">\n",
       "      <th></th>\n",
       "      <th>TEAM</th>\n",
       "      <th>CONF</th>\n",
       "      <th>ADJOE</th>\n",
       "      <th>W</th>\n",
       "      <th>POSTSEASON</th>\n",
       "    </tr>\n",
       "  </thead>\n",
       "  <tbody>\n",
       "    <tr>\n",
       "      <th>1</th>\n",
       "      <td>Connecticut</td>\n",
       "      <td>BE</td>\n",
       "      <td>127.1</td>\n",
       "      <td>31</td>\n",
       "      <td>Champions</td>\n",
       "    </tr>\n",
       "    <tr>\n",
       "      <th>2</th>\n",
       "      <td>Purdue</td>\n",
       "      <td>B10</td>\n",
       "      <td>126.2</td>\n",
       "      <td>29</td>\n",
       "      <td>2ND</td>\n",
       "    </tr>\n",
       "    <tr>\n",
       "      <th>9</th>\n",
       "      <td>Illinois</td>\n",
       "      <td>B10</td>\n",
       "      <td>125.3</td>\n",
       "      <td>26</td>\n",
       "      <td>E8</td>\n",
       "    </tr>\n",
       "    <tr>\n",
       "      <th>14</th>\n",
       "      <td>Alabama</td>\n",
       "      <td>SEC</td>\n",
       "      <td>125.2</td>\n",
       "      <td>21</td>\n",
       "      <td>F4</td>\n",
       "    </tr>\n",
       "    <tr>\n",
       "      <th>371</th>\n",
       "      <td>Gonzaga</td>\n",
       "      <td>WCC</td>\n",
       "      <td>123.2</td>\n",
       "      <td>31</td>\n",
       "      <td>E8</td>\n",
       "    </tr>\n",
       "  </tbody>\n",
       "</table>\n",
       "</div>"
      ],
      "text/plain": [
       "            TEAM CONF  ADJOE   W POSTSEASON\n",
       "1    Connecticut   BE  127.1  31  Champions\n",
       "2         Purdue  B10  126.2  29        2ND\n",
       "9       Illinois  B10  125.3  26         E8\n",
       "14       Alabama  SEC  125.2  21         F4\n",
       "371      Gonzaga  WCC  123.2  31         E8"
      ]
     },
     "execution_count": 21,
     "metadata": {},
     "output_type": "execute_result"
    }
   ],
   "source": [
    "# Which team had the best offensive rating?\n",
    "# ADJOE (Adjusted Offensive Efficiency)\n",
    "bestOffense = basketballData.sort_values(by='ADJOE', ascending=False).head(5)\n",
    "bestOffense[['TEAM', 'CONF', 'ADJOE', 'W', 'POSTSEASON']]\n",
    "\n"
   ]
  },
  {
   "cell_type": "code",
   "execution_count": 24,
   "id": "126f22fa",
   "metadata": {},
   "outputs": [
    {
     "data": {
      "image/png": "[encoded data removed]",
      "text/plain": [
       "<Figure size 1000x600 with 1 Axes>"
      ]
     },
     "metadata": {},
     "output_type": "display_data"
    }
   ],
   "source": [
    "#  Is there a relationship between team strength and shooting accuracy?\n",
    "# BARTHAG (strength)\n",
    "# EFG% (Effective Field Goal %)\n",
    "\n",
    "plt.figure(figsize=(10,6))\n",
    "sns.regplot(data=basketballData, x='EFG%', y='BARTHAG')\n",
    "plt.title('Team Strength (BARTHAG) vs. Shooting Efficiency (EFG%)')\n",
    "plt.xlabel('Effective Field Goal %')\n",
    "plt.ylabel('Team Strength (BARTHAG)')\n",
    "plt.grid(True)\n",
    "plt.tight_layout()"
   ]
  },
  {
   "cell_type": "code",
   "execution_count": null,
   "id": "5ee2f48d",
   "metadata": {},
   "outputs": [],
   "source": []
  }
 ],
 "metadata": {
  "kernelspec": {
   "display_name": "base",
   "language": "python",
   "name": "python3"
  },
  "language_info": {
   "codemirror_mode": {
    "name": "ipython",
    "version": 3
   },
   "file_extension": ".py",
   "mimetype": "text/x-python",
   "name": "python",
   "nbconvert_exporter": "python",
   "pygments_lexer": "ipython3",
   "version": "3.12.2"
  }
 },
 "nbformat": 4,
 "nbformat_minor": 5
}
